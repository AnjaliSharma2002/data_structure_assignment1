{
 "cells": [
  {
   "cell_type": "code",
   "execution_count": 5,
   "id": "da956cdd-b546-4acb-b47f-cdc8300ef6d2",
   "metadata": {},
   "outputs": [
    {
     "data": {
      "text/plain": [
       "\"Hii I'm Anjali!\""
      ]
     },
     "execution_count": 5,
     "metadata": {},
     "output_type": "execute_result"
    }
   ],
   "source": [
    "# Q1.\n",
    "\n",
    "# The string slicing is about obtaining the sub string from the given string by slicing it from from start to end\n",
    "\n",
    "s1 = \"Hii I'm Anjali!\"\n",
    "s1[0:]     #It will give the substring till the last index"
   ]
  },
  {
   "cell_type": "code",
   "execution_count": 7,
   "id": "37c863ca-f2b2-4198-9d0a-cafb486ca03f",
   "metadata": {},
   "outputs": [
    {
     "data": {
      "text/plain": [
       "\" I'm Anj\""
      ]
     },
     "execution_count": 7,
     "metadata": {},
     "output_type": "execute_result"
    }
   ],
   "source": [
    "s1[3:11]"
   ]
  },
  {
   "cell_type": "code",
   "execution_count": 8,
   "id": "9097e1d6-ad17-4cf9-8ce6-cc916d54d350",
   "metadata": {},
   "outputs": [
    {
     "data": {
      "text/plain": [
       "'li!'"
      ]
     },
     "execution_count": 8,
     "metadata": {},
     "output_type": "execute_result"
    }
   ],
   "source": [
    "# to print the last 3 characters\n",
    "s1[-3:]"
   ]
  },
  {
   "cell_type": "code",
   "execution_count": 12,
   "id": "a1c82170-dfa6-4970-a59b-43943d073397",
   "metadata": {},
   "outputs": [
    {
     "data": {
      "text/plain": [
       "'HiImAjl!'"
      ]
     },
     "execution_count": 12,
     "metadata": {},
     "output_type": "execute_result"
    }
   ],
   "source": [
    "s1[::2]\n",
    "\n",
    "# s1[start:stop:step]"
   ]
  },
  {
   "cell_type": "code",
   "execution_count": 15,
   "id": "dc4a320f-0570-44be-a963-2d64fbe0e7c4",
   "metadata": {},
   "outputs": [
    {
     "data": {
      "text/plain": [
       "\"!ilajnA m'I iiH\""
      ]
     },
     "execution_count": 15,
     "metadata": {},
     "output_type": "execute_result"
    }
   ],
   "source": [
    "# To begin from the end to start\n",
    "# to reverse the string\n",
    "s1[::-1]"
   ]
  },
  {
   "cell_type": "code",
   "execution_count": 16,
   "id": "fad7e25a-4326-4c79-8c8f-82f2d24f764f",
   "metadata": {},
   "outputs": [],
   "source": [
    "# Q2. Lists are use to store the collection of data.\n",
    "# Lists are mutable (or changable), ordered sequence of elements."
   ]
  },
  {
   "cell_type": "code",
   "execution_count": 28,
   "id": "e00f6e53-30ce-49e3-9005-b7b4632c8f20",
   "metadata": {},
   "outputs": [
    {
     "data": {
      "text/plain": [
       "[1, 2, 3, 4.4, 'abc', 'anjali']"
      ]
     },
     "execution_count": 28,
     "metadata": {},
     "output_type": "execute_result"
    }
   ],
   "source": [
    "l1 = [1,2,3,4.4,\"abc\",\"anjali\"]\n",
    "\n",
    "l1"
   ]
  },
  {
   "cell_type": "code",
   "execution_count": 29,
   "id": "64d158b0-c0e7-45ab-b765-1392aeb55683",
   "metadata": {},
   "outputs": [
    {
     "data": {
      "text/plain": [
       "1"
      ]
     },
     "execution_count": 29,
     "metadata": {},
     "output_type": "execute_result"
    }
   ],
   "source": [
    "l1[0]"
   ]
  },
  {
   "cell_type": "code",
   "execution_count": 30,
   "id": "78040af3-632c-4270-8317-2446af741470",
   "metadata": {},
   "outputs": [],
   "source": [
    "l1[0] = 100    # we can change the value"
   ]
  },
  {
   "cell_type": "code",
   "execution_count": 31,
   "id": "9961a374-3032-4ebe-9f21-b79422e34bdc",
   "metadata": {},
   "outputs": [
    {
     "data": {
      "text/plain": [
       "[100, 2, 3, 4.4, 'abc', 'anjali']"
      ]
     },
     "execution_count": 31,
     "metadata": {},
     "output_type": "execute_result"
    }
   ],
   "source": [
    "l1"
   ]
  },
  {
   "cell_type": "code",
   "execution_count": 32,
   "id": "e2d6194b-520a-4ca4-9def-1f62028b853e",
   "metadata": {},
   "outputs": [
    {
     "data": {
      "text/plain": [
       "[2, 3, 4.4, 'abc']"
      ]
     },
     "execution_count": 32,
     "metadata": {},
     "output_type": "execute_result"
    }
   ],
   "source": [
    "# slicing in lists\n",
    "\n",
    "l1[1:5]"
   ]
  },
  {
   "cell_type": "code",
   "execution_count": 33,
   "id": "2ffd31cc-a8e0-4efd-890b-8e8dcec01d75",
   "metadata": {},
   "outputs": [
    {
     "data": {
      "text/plain": [
       "'abc'"
      ]
     },
     "execution_count": 33,
     "metadata": {},
     "output_type": "execute_result"
    }
   ],
   "source": [
    "l1[-2]"
   ]
  },
  {
   "cell_type": "code",
   "execution_count": 34,
   "id": "4557eecc-6949-424e-a37e-bd55d991dbc6",
   "metadata": {},
   "outputs": [],
   "source": [
    "l1.append(\"Hello\")      # to add a data at the end of the list"
   ]
  },
  {
   "cell_type": "code",
   "execution_count": 35,
   "id": "ba577002-87ec-4cf3-9a34-a921be7d96e6",
   "metadata": {},
   "outputs": [
    {
     "data": {
      "text/plain": [
       "[100, 2, 3, 4.4, 'abc', 'anjali', 'Hello']"
      ]
     },
     "execution_count": 35,
     "metadata": {},
     "output_type": "execute_result"
    }
   ],
   "source": [
    "l1"
   ]
  },
  {
   "cell_type": "code",
   "execution_count": 36,
   "id": "504f23c9-267a-48f8-9cbd-78b71bde49d2",
   "metadata": {},
   "outputs": [],
   "source": [
    "# to append the elements from the another list\n",
    "\n",
    "a = [1,2,3]\n",
    "b = [4,5,6]\n",
    "a.extend(b)"
   ]
  },
  {
   "cell_type": "code",
   "execution_count": 37,
   "id": "dcbb404f-af4d-48d8-96d4-dde9ebc4f51c",
   "metadata": {},
   "outputs": [
    {
     "data": {
      "text/plain": [
       "[1, 2, 3, 4, 5, 6]"
      ]
     },
     "execution_count": 37,
     "metadata": {},
     "output_type": "execute_result"
    }
   ],
   "source": [
    "a"
   ]
  },
  {
   "cell_type": "code",
   "execution_count": 38,
   "id": "63e5898f-5aa0-483d-9f2c-7414585e1fab",
   "metadata": {},
   "outputs": [
    {
     "data": {
      "text/plain": [
       "[1, 2, 3, 4, 5, 6]"
      ]
     },
     "execution_count": 38,
     "metadata": {},
     "output_type": "execute_result"
    }
   ],
   "source": [
    "# To concatinate the 2 lists\n",
    "\n",
    "a = [1,2,3]\n",
    "b = [4,5,6]\n",
    "\n",
    "a + b"
   ]
  },
  {
   "cell_type": "code",
   "execution_count": 39,
   "id": "0dd5d9bb-488b-4d5d-90e6-bfa7e338df50",
   "metadata": {},
   "outputs": [
    {
     "data": {
      "text/plain": [
       "[0, 1, 2, 3, 4]"
      ]
     },
     "execution_count": 39,
     "metadata": {},
     "output_type": "execute_result"
    }
   ],
   "source": [
    "# using range function in lists\n",
    "\n",
    "list(range(5))"
   ]
  },
  {
   "cell_type": "code",
   "execution_count": 41,
   "id": "3ec72013-04c7-4d7f-b7c7-e759050941f3",
   "metadata": {},
   "outputs": [
    {
     "data": {
      "text/plain": [
       "[1, 2, 3]"
      ]
     },
     "execution_count": 41,
     "metadata": {},
     "output_type": "execute_result"
    }
   ],
   "source": [
    "# deep copy and shallow copy\n",
    "\n",
    "# shallow copy -> the value change in the list will reflect in the another list\n",
    "\n",
    "l1 = [1,2,3]\n",
    "\n",
    "l2 = l1\n",
    "\n",
    "l2"
   ]
  },
  {
   "cell_type": "code",
   "execution_count": 42,
   "id": "e1a6d004-f2fd-4fd9-a2fa-2ac7e782a49d",
   "metadata": {},
   "outputs": [
    {
     "data": {
      "text/plain": [
       "[100, 2, 3]"
      ]
     },
     "execution_count": 42,
     "metadata": {},
     "output_type": "execute_result"
    }
   ],
   "source": [
    "l2[0] = 100\n",
    "\n",
    "l2"
   ]
  },
  {
   "cell_type": "code",
   "execution_count": 43,
   "id": "52854f2c-de4c-4df3-8d09-233cdb2381c5",
   "metadata": {},
   "outputs": [
    {
     "data": {
      "text/plain": [
       "[100, 2, 3]"
      ]
     },
     "execution_count": 43,
     "metadata": {},
     "output_type": "execute_result"
    }
   ],
   "source": [
    "l1"
   ]
  },
  {
   "cell_type": "code",
   "execution_count": 45,
   "id": "0f7a8666-f39d-4708-8b53-b069c2a5d327",
   "metadata": {},
   "outputs": [
    {
     "data": {
      "text/plain": [
       "[1, 2, 3]"
      ]
     },
     "execution_count": 45,
     "metadata": {},
     "output_type": "execute_result"
    }
   ],
   "source": [
    "# Deep copy -> the changes in one list will not reflect in the another list\n",
    "\n",
    "l1 = [1,2,3]\n",
    "\n",
    "l2 = l1.copy()\n",
    "\n",
    "l2"
   ]
  },
  {
   "cell_type": "code",
   "execution_count": 46,
   "id": "e6d6b8fc-d48c-43f7-8874-b913949b5483",
   "metadata": {},
   "outputs": [
    {
     "data": {
      "text/plain": [
       "[100, 2, 3]"
      ]
     },
     "execution_count": 46,
     "metadata": {},
     "output_type": "execute_result"
    }
   ],
   "source": [
    "l2[0] = 100\n",
    "\n",
    "l2"
   ]
  },
  {
   "cell_type": "code",
   "execution_count": 48,
   "id": "d4e54fc6-4c0f-481f-9934-a6e32b6c4b8a",
   "metadata": {},
   "outputs": [
    {
     "data": {
      "text/plain": [
       "[1, 2, 3]"
      ]
     },
     "execution_count": 48,
     "metadata": {},
     "output_type": "execute_result"
    }
   ],
   "source": [
    "l1     #the elements of the l1 list remains same"
   ]
  },
  {
   "cell_type": "code",
   "execution_count": 51,
   "id": "d620f260-3f4c-4498-b7bd-d9158be9a7c5",
   "metadata": {},
   "outputs": [],
   "source": [
    "# sorting list  -> arrange the elements of the list in the sorted order\n",
    "\n",
    "list1 = [1,4,2,6,0]\n",
    "\n",
    "list1.sort()"
   ]
  },
  {
   "cell_type": "code",
   "execution_count": 52,
   "id": "efce8339-3d2f-478a-b0cb-2d6f910c6ae8",
   "metadata": {},
   "outputs": [
    {
     "data": {
      "text/plain": [
       "[0, 1, 2, 4, 6]"
      ]
     },
     "execution_count": 52,
     "metadata": {},
     "output_type": "execute_result"
    }
   ],
   "source": [
    "list1"
   ]
  },
  {
   "cell_type": "code",
   "execution_count": 57,
   "id": "587dae35-4e53-45a9-a8dd-f6ddaa0263f9",
   "metadata": {},
   "outputs": [
    {
     "data": {
      "text/plain": [
       "1"
      ]
     },
     "execution_count": 57,
     "metadata": {},
     "output_type": "execute_result"
    }
   ],
   "source": [
    "# Q3.  To access te elements in the list\n",
    "\n",
    "l1 = [1,2,3,4,5,6,7,8,9,12,32,22]\n",
    "\n",
    "l1[0]"
   ]
  },
  {
   "cell_type": "code",
   "execution_count": 58,
   "id": "d4a9c021-33fe-4cb4-b0da-132a0df349df",
   "metadata": {},
   "outputs": [
    {
     "data": {
      "text/plain": [
       "[1, 2, 3, 4, 5, 6]"
      ]
     },
     "execution_count": 58,
     "metadata": {},
     "output_type": "execute_result"
    }
   ],
   "source": [
    "l1[0:6]"
   ]
  },
  {
   "cell_type": "code",
   "execution_count": null,
   "id": "d424866e-d6b5-43a1-b2ff-dfbc9bb4125b",
   "metadata": {},
   "outputs": [],
   "source": []
  },
  {
   "cell_type": "code",
   "execution_count": null,
   "id": "e0de5361-5afe-4bf6-9b9b-e51086dc5bc4",
   "metadata": {},
   "outputs": [],
   "source": []
  },
  {
   "cell_type": "code",
   "execution_count": 67,
   "id": "5a860c79-e928-4866-baac-eeb51d265016",
   "metadata": {},
   "outputs": [
    {
     "data": {
      "text/plain": [
       "[1, 2, 3, 4, 5, 6, 7, 8, 9, 12, 32, 22, 'abc', 'abc']"
      ]
     },
     "execution_count": 67,
     "metadata": {},
     "output_type": "execute_result"
    }
   ],
   "source": [
    "# To modify the list we can use the below menyioned method\n",
    "\n",
    "# If we want to add the elemnt in the list we can use append\n",
    "\n",
    "l1.append(\"abc\")\n",
    "\n",
    "l1"
   ]
  },
  {
   "cell_type": "code",
   "execution_count": 68,
   "id": "e3be5d2b-0d62-4a5a-99a6-9011bb9781de",
   "metadata": {},
   "outputs": [
    {
     "data": {
      "text/plain": [
       "4"
      ]
     },
     "execution_count": 68,
     "metadata": {},
     "output_type": "execute_result"
    }
   ],
   "source": [
    "# to count the elements in the list\n",
    "l2 = [1,2,2,3,3,45,6,2,2,3]\n",
    "l2.count(2)"
   ]
  },
  {
   "cell_type": "code",
   "execution_count": 69,
   "id": "bf44d55c-c05f-424b-b0d4-2c358b8b57b9",
   "metadata": {},
   "outputs": [
    {
     "data": {
      "text/plain": [
       "['Abc', 'Anjali', 'Hello']"
      ]
     },
     "execution_count": 69,
     "metadata": {},
     "output_type": "execute_result"
    }
   ],
   "source": [
    "# to captilize the first leeter in the list\n",
    "names = [\"abc\",\"anjali\",\"hello\"]\n",
    "[name.capitalize() for name in names]"
   ]
  },
  {
   "cell_type": "code",
   "execution_count": 70,
   "id": "a44e0890-223b-417d-bdfa-2341affd98cc",
   "metadata": {},
   "outputs": [],
   "source": [
    "# To sort the lelemnts in a list\n",
    "\n",
    "l2.sort()"
   ]
  },
  {
   "cell_type": "code",
   "execution_count": 71,
   "id": "1583ea89-24e4-4962-8dad-350109ff5fc1",
   "metadata": {},
   "outputs": [
    {
     "data": {
      "text/plain": [
       "[1, 2, 2, 2, 2, 3, 3, 3, 6, 45]"
      ]
     },
     "execution_count": 71,
     "metadata": {},
     "output_type": "execute_result"
    }
   ],
   "source": [
    "l2"
   ]
  },
  {
   "cell_type": "code",
   "execution_count": 72,
   "id": "0b511253-5512-49b5-a452-54dd21189f23",
   "metadata": {},
   "outputs": [],
   "source": [
    "# To remove any element from the list\n",
    "\n",
    "l1 = [\"a\",1,2,3,4,\"b\",\"c\"]\n",
    "\n",
    "l1.remove(\"a\")"
   ]
  },
  {
   "cell_type": "code",
   "execution_count": 73,
   "id": "8c50f8c4-cfcd-4ae5-bccf-8974c788718e",
   "metadata": {},
   "outputs": [
    {
     "data": {
      "text/plain": [
       "[1, 2, 3, 4, 'b', 'c']"
      ]
     },
     "execution_count": 73,
     "metadata": {},
     "output_type": "execute_result"
    }
   ],
   "source": [
    "l1"
   ]
  },
  {
   "cell_type": "code",
   "execution_count": 74,
   "id": "2f0ba84e-a74d-43cf-8a77-7e1aa543b9d8",
   "metadata": {},
   "outputs": [
    {
     "data": {
      "text/plain": [
       "[]"
      ]
     },
     "execution_count": 74,
     "metadata": {},
     "output_type": "execute_result"
    }
   ],
   "source": [
    "#  to clear all the elements from the list\n",
    "\n",
    "l1.clear()\n",
    "\n",
    "l1"
   ]
  },
  {
   "cell_type": "code",
   "execution_count": 75,
   "id": "dcaeba26-f41d-4eed-b437-bb71b797b265",
   "metadata": {},
   "outputs": [],
   "source": [
    "#  To delete a list we use del keyword\n",
    "\n",
    "del l1"
   ]
  },
  {
   "cell_type": "code",
   "execution_count": 77,
   "id": "2b4f4414-3bad-4c70-8534-7dc6b9df8544",
   "metadata": {},
   "outputs": [
    {
     "ename": "NameError",
     "evalue": "name 'l1' is not defined",
     "output_type": "error",
     "traceback": [
      "\u001b[0;31m---------------------------------------------------------------------------\u001b[0m",
      "\u001b[0;31mNameError\u001b[0m                                 Traceback (most recent call last)",
      "Cell \u001b[0;32mIn[77], line 1\u001b[0m\n\u001b[0;32m----> 1\u001b[0m \u001b[43ml1\u001b[49m     \u001b[38;5;66;03m#after deleting the list =, we cannot access it\u001b[39;00m\n",
      "\u001b[0;31mNameError\u001b[0m: name 'l1' is not defined"
     ]
    }
   ],
   "source": [
    "l1     #after deleting the list =, we cannot access it"
   ]
  },
  {
   "cell_type": "code",
   "execution_count": null,
   "id": "7e00f0c0-a05b-45fc-8ffe-f30ec54c1487",
   "metadata": {},
   "outputs": [],
   "source": []
  },
  {
   "cell_type": "code",
   "execution_count": 19,
   "id": "d1f4bf8f-5e65-4b74-b22f-a274d23d6b86",
   "metadata": {},
   "outputs": [
    {
     "data": {
      "text/plain": [
       "tuple"
      ]
     },
     "execution_count": 19,
     "metadata": {},
     "output_type": "execute_result"
    }
   ],
   "source": [
    "# Q4. Tuples are immutable data structure use to store the collection of data\n",
    "#  whereas the lists are mutable and the data can be modified once the list is created\n",
    "# Tuples cannot be changed once they are created\n",
    "\n",
    "# In both tuples and lists we can access the element by index\n",
    "\n",
    "t = ()\n",
    "type(t)"
   ]
  },
  {
   "cell_type": "code",
   "execution_count": 20,
   "id": "cc350d9e-bc4e-4887-b223-191924b0f024",
   "metadata": {},
   "outputs": [],
   "source": [
    "t = (\"coding\",1,2,3,4,5,\"skills\")"
   ]
  },
  {
   "cell_type": "code",
   "execution_count": 21,
   "id": "18b255b9-ad63-4ae0-a3b0-ae2154bb7fee",
   "metadata": {},
   "outputs": [
    {
     "data": {
      "text/plain": [
       "'coding'"
      ]
     },
     "execution_count": 21,
     "metadata": {},
     "output_type": "execute_result"
    }
   ],
   "source": [
    "t[0]"
   ]
  },
  {
   "cell_type": "code",
   "execution_count": 22,
   "id": "f22aaaf1-8fae-4b13-a850-26cf6cd45fef",
   "metadata": {},
   "outputs": [
    {
     "data": {
      "text/plain": [
       "'skills'"
      ]
     },
     "execution_count": 22,
     "metadata": {},
     "output_type": "execute_result"
    }
   ],
   "source": [
    "t[-1]"
   ]
  },
  {
   "cell_type": "code",
   "execution_count": 23,
   "id": "588f5fbd-fb83-4d04-8a78-6ed491bc8395",
   "metadata": {},
   "outputs": [
    {
     "ename": "TypeError",
     "evalue": "'tuple' object does not support item assignment",
     "output_type": "error",
     "traceback": [
      "\u001b[0;31m---------------------------------------------------------------------------\u001b[0m",
      "\u001b[0;31mTypeError\u001b[0m                                 Traceback (most recent call last)",
      "Cell \u001b[0;32mIn[23], line 1\u001b[0m\n\u001b[0;32m----> 1\u001b[0m \u001b[43mt\u001b[49m\u001b[43m[\u001b[49m\u001b[38;5;241;43m1\u001b[39;49m\u001b[43m]\u001b[49m \u001b[38;5;241m=\u001b[39m \u001b[38;5;241m100\u001b[39m      \u001b[38;5;66;03m#tuples are immutable\u001b[39;00m\n",
      "\u001b[0;31mTypeError\u001b[0m: 'tuple' object does not support item assignment"
     ]
    }
   ],
   "source": [
    "t[1] = 100      #tuples are immutable"
   ]
  },
  {
   "cell_type": "code",
   "execution_count": 24,
   "id": "6d10df1b-a9e6-4636-b1e1-a832cd2215dd",
   "metadata": {},
   "outputs": [
    {
     "data": {
      "text/plain": [
       "list"
      ]
     },
     "execution_count": 24,
     "metadata": {},
     "output_type": "execute_result"
    }
   ],
   "source": [
    "# Lists\n",
    "\n",
    "l =[]\n",
    "type(l)"
   ]
  },
  {
   "cell_type": "code",
   "execution_count": 25,
   "id": "7eea3e60-94db-4be4-a467-736d5faaa00e",
   "metadata": {},
   "outputs": [
    {
     "data": {
      "text/plain": [
       "'skills'"
      ]
     },
     "execution_count": 25,
     "metadata": {},
     "output_type": "execute_result"
    }
   ],
   "source": [
    "l1 = [\"skills\",\"coding\",\"data\",\"science\"]\n",
    "\n",
    "l1[0]"
   ]
  },
  {
   "cell_type": "code",
   "execution_count": 26,
   "id": "8e210c4f-6255-4444-97a0-43ead178fdc7",
   "metadata": {},
   "outputs": [
    {
     "data": {
      "text/plain": [
       "[100, 'coding', 'data', 'science']"
      ]
     },
     "execution_count": 26,
     "metadata": {},
     "output_type": "execute_result"
    }
   ],
   "source": [
    "l1[0] = 100\n",
    "\n",
    "l1      # lists are mutable and can be changed"
   ]
  },
  {
   "cell_type": "code",
   "execution_count": null,
   "id": "d60503bc-5323-4997-a513-a36a91dc4f12",
   "metadata": {},
   "outputs": [],
   "source": []
  },
  {
   "cell_type": "code",
   "execution_count": null,
   "id": "f1ab0076-19cf-4cb1-bb52-f0086aefe803",
   "metadata": {},
   "outputs": [],
   "source": []
  },
  {
   "cell_type": "code",
   "execution_count": 10,
   "id": "bbe2c4b3-d2eb-4231-a5a8-cafc0e836ed5",
   "metadata": {},
   "outputs": [],
   "source": [
    "# Q5.     Key features of of sets:\n",
    "\n",
    "# The sets are the unordered unique collection of data\n",
    "\n",
    "# Set is a mutable data structure\n",
    "\n",
    "# In sets we cannot access the data through index\n",
    "\n",
    "# A set itself may be modified, but the elements contained in the set must be of an immutable type."
   ]
  },
  {
   "cell_type": "code",
   "execution_count": 11,
   "id": "7a19f784-7fdb-45b9-b996-5863b26cd7e7",
   "metadata": {},
   "outputs": [
    {
     "data": {
      "text/plain": [
       "set"
      ]
     },
     "execution_count": 11,
     "metadata": {},
     "output_type": "execute_result"
    }
   ],
   "source": [
    "s1 = {1,2,3,4}\n",
    "type(s1)"
   ]
  },
  {
   "cell_type": "code",
   "execution_count": 12,
   "id": "965b7bb0-90a5-4623-90e3-099c45d6e373",
   "metadata": {},
   "outputs": [
    {
     "ename": "NameError",
     "evalue": "name 's' is not defined",
     "output_type": "error",
     "traceback": [
      "\u001b[0;31m---------------------------------------------------------------------------\u001b[0m",
      "\u001b[0;31mNameError\u001b[0m                                 Traceback (most recent call last)",
      "Cell \u001b[0;32mIn[12], line 1\u001b[0m\n\u001b[0;32m----> 1\u001b[0m \u001b[43ms\u001b[49m[\u001b[38;5;241m0\u001b[39m]       \u001b[38;5;66;03m#this will throw an error beacuse the elements in a set cannot be accessed by the index\u001b[39;00m\n",
      "\u001b[0;31mNameError\u001b[0m: name 's' is not defined"
     ]
    }
   ],
   "source": [
    "s[0]       #this will throw an error beacuse the elements in a set cannot be accessed by the index"
   ]
  },
  {
   "cell_type": "code",
   "execution_count": 13,
   "id": "073bba05-2ca7-48f3-837a-5c348d69dd17",
   "metadata": {},
   "outputs": [
    {
     "data": {
      "text/plain": [
       "{1, 2, 3, 4, 5}"
      ]
     },
     "execution_count": 13,
     "metadata": {},
     "output_type": "execute_result"
    }
   ],
   "source": [
    "s2 = {1,2,3,2,3,4,5}\n",
    "s2"
   ]
  },
  {
   "cell_type": "code",
   "execution_count": 14,
   "id": "fb1715b8-6abe-4e1e-9fc0-b3a7751894c0",
   "metadata": {},
   "outputs": [
    {
     "ename": "TypeError",
     "evalue": "unhashable type: 'set'",
     "output_type": "error",
     "traceback": [
      "\u001b[0;31m---------------------------------------------------------------------------\u001b[0m",
      "\u001b[0;31mTypeError\u001b[0m                                 Traceback (most recent call last)",
      "Cell \u001b[0;32mIn[14], line 3\u001b[0m\n\u001b[1;32m      1\u001b[0m \u001b[38;5;66;03m# set inside set is immutable\u001b[39;00m\n\u001b[0;32m----> 3\u001b[0m s1 \u001b[38;5;241m=\u001b[39m {\u001b[38;5;241m1\u001b[39m,\u001b[38;5;241m2\u001b[39m,\u001b[38;5;241m3\u001b[39m,\u001b[38;5;241m4\u001b[39m,\u001b[38;5;241m5\u001b[39m,\u001b[38;5;241m6\u001b[39m,{\u001b[38;5;241m7\u001b[39m,\u001b[38;5;241m8\u001b[39m}}\n\u001b[1;32m      4\u001b[0m s1\n",
      "\u001b[0;31mTypeError\u001b[0m: unhashable type: 'set'"
     ]
    }
   ],
   "source": [
    "# set inside set is immutable\n",
    "\n",
    "s1 = {1,2,3,4,5,6,{7,8}}\n",
    "s1"
   ]
  },
  {
   "cell_type": "code",
   "execution_count": 7,
   "id": "e671ff45-38d1-494f-aeca-26d2a18b3dd1",
   "metadata": {},
   "outputs": [
    {
     "data": {
      "text/plain": [
       "{(4, 5, 6), 1, 2, 3, 4, 5}"
      ]
     },
     "execution_count": 7,
     "metadata": {},
     "output_type": "execute_result"
    }
   ],
   "source": [
    "x = {1,2,3,4,5,(4,5,6)}    #it does'nt thorow an error as the tuplr is immutable\n",
    "x"
   ]
  },
  {
   "cell_type": "code",
   "execution_count": 8,
   "id": "f1942294-085e-4328-a58c-f477888b196f",
   "metadata": {},
   "outputs": [
    {
     "ename": "NameError",
     "evalue": "name 's' is not defined",
     "output_type": "error",
     "traceback": [
      "\u001b[0;31m---------------------------------------------------------------------------\u001b[0m",
      "\u001b[0;31mNameError\u001b[0m                                 Traceback (most recent call last)",
      "Cell \u001b[0;32mIn[8], line 1\u001b[0m\n\u001b[0;32m----> 1\u001b[0m \u001b[43ms\u001b[49m[:\u001b[38;5;241m2\u001b[39m]\n",
      "\u001b[0;31mNameError\u001b[0m: name 's' is not defined"
     ]
    }
   ],
   "source": [
    "s[:2]"
   ]
  },
  {
   "cell_type": "code",
   "execution_count": 9,
   "id": "fe69d43e-fcda-4e45-8793-44c3cd01cea1",
   "metadata": {},
   "outputs": [
    {
     "name": "stdout",
     "output_type": "stream",
     "text": [
      "1\n",
      "2\n",
      "3\n",
      "4\n"
     ]
    }
   ],
   "source": [
    "# to review the element we can use the loops\n",
    "\n",
    "for i in s1:\n",
    "    print(i)"
   ]
  },
  {
   "cell_type": "code",
   "execution_count": 16,
   "id": "77539240-d33b-49fc-a4f1-92fd8b5e5c2c",
   "metadata": {},
   "outputs": [
    {
     "data": {
      "text/plain": [
       "{1, 2, 3, 4, 100}"
      ]
     },
     "execution_count": 16,
     "metadata": {},
     "output_type": "execute_result"
    }
   ],
   "source": [
    "# to add an element in the set\n",
    "s1.add(100)   # it is not compulsory that it will add to the last of the set\n",
    "s1"
   ]
  },
  {
   "cell_type": "code",
   "execution_count": 17,
   "id": "eab29da0-fc8a-47a3-98f6-369372b3e6ba",
   "metadata": {},
   "outputs": [
    {
     "data": {
      "text/plain": [
       "1"
      ]
     },
     "execution_count": 17,
     "metadata": {},
     "output_type": "execute_result"
    }
   ],
   "source": [
    "s1.pop()     # it is not compulsory that it will remove the last element\n"
   ]
  },
  {
   "cell_type": "code",
   "execution_count": 18,
   "id": "c7fa04ca-b467-432b-bdef-2bd0ea7127b0",
   "metadata": {},
   "outputs": [],
   "source": [
    "s1.update(\"skills\")"
   ]
  },
  {
   "cell_type": "code",
   "execution_count": 19,
   "id": "d11159f9-926d-436c-b8bb-bc203f455a38",
   "metadata": {},
   "outputs": [
    {
     "data": {
      "text/plain": [
       "{100, 2, 3, 4, 'i', 'k', 'l', 's'}"
      ]
     },
     "execution_count": 19,
     "metadata": {},
     "output_type": "execute_result"
    }
   ],
   "source": [
    "s1"
   ]
  },
  {
   "cell_type": "code",
   "execution_count": 20,
   "id": "cf7f440a-2664-4859-aebf-a9e9186b9445",
   "metadata": {},
   "outputs": [
    {
     "data": {
      "text/plain": [
       "{100, 2, 3, 4, 'Data', 'i', 'k', 'l', 's'}"
      ]
     },
     "execution_count": 20,
     "metadata": {},
     "output_type": "execute_result"
    }
   ],
   "source": [
    "s1.update([\"Data\"])\n",
    "s1"
   ]
  },
  {
   "cell_type": "code",
   "execution_count": 21,
   "id": "be8022e6-24ce-4308-aceb-0c026a756726",
   "metadata": {},
   "outputs": [],
   "source": [
    "# does not throw error in discard function as if the unit is not present in the set\n",
    "\n",
    "s1.discard(110)"
   ]
  },
  {
   "cell_type": "code",
   "execution_count": 22,
   "id": "9722afa8-b126-4576-94e8-024e1a9e301c",
   "metadata": {},
   "outputs": [],
   "source": [
    "#  set operations"
   ]
  },
  {
   "cell_type": "code",
   "execution_count": 24,
   "id": "1950d5c5-2508-42e2-aa01-af0c9232bebb",
   "metadata": {},
   "outputs": [
    {
     "data": {
      "text/plain": [
       "{1, 2, 3, 4, 5, 6, 7}"
      ]
     },
     "execution_count": 24,
     "metadata": {},
     "output_type": "execute_result"
    }
   ],
   "source": [
    "# A union B\n",
    "\n",
    "s1 = {1,2,3,4}\n",
    "s2 = {4,5,6,7}\n",
    "\n",
    "s1 | s2"
   ]
  },
  {
   "cell_type": "code",
   "execution_count": 26,
   "id": "87888e1d-3171-42ad-80be-81a7f9ce13aa",
   "metadata": {},
   "outputs": [
    {
     "data": {
      "text/plain": [
       "{1, 2, 3}"
      ]
     },
     "execution_count": 26,
     "metadata": {},
     "output_type": "execute_result"
    }
   ],
   "source": [
    "# difference\n",
    "\n",
    "s1 - s2"
   ]
  },
  {
   "cell_type": "code",
   "execution_count": 28,
   "id": "6a0326d6-ed0b-445d-87f3-f00243a7878a",
   "metadata": {},
   "outputs": [
    {
     "data": {
      "text/plain": [
       "{4}"
      ]
     },
     "execution_count": 28,
     "metadata": {},
     "output_type": "execute_result"
    }
   ],
   "source": [
    "#  A intersaction B\n",
    "\n",
    "s1 & s2"
   ]
  },
  {
   "cell_type": "code",
   "execution_count": 29,
   "id": "a79dbd6a-4dc6-47e4-8b6d-9582020223f7",
   "metadata": {},
   "outputs": [
    {
     "data": {
      "text/plain": [
       "{1, 2, 3, 5, 6, 7}"
      ]
     },
     "execution_count": 29,
     "metadata": {},
     "output_type": "execute_result"
    }
   ],
   "source": [
    "# symmetric difference\n",
    "\n",
    "s1^s2"
   ]
  },
  {
   "cell_type": "code",
   "execution_count": 30,
   "id": "77b1b283-f52e-4c64-bfde-3d7380cfe81f",
   "metadata": {},
   "outputs": [],
   "source": [
    "# Q6.    use cases of tuples and sets\n",
    "\n",
    "\n",
    "# Tuples are the immutable collection of data wherein the elements cannot be chaneg after the creation of the tuple\n",
    "\n",
    "# Sets are mutable collection of data and they are unordered and unindexed."
   ]
  },
  {
   "cell_type": "code",
   "execution_count": 31,
   "id": "ab186dd3-05f1-40f3-992a-4826e6d77d47",
   "metadata": {},
   "outputs": [
    {
     "data": {
      "text/plain": [
       "{1, 2, 3, 'bringal'}"
      ]
     },
     "execution_count": 31,
     "metadata": {},
     "output_type": "execute_result"
    }
   ],
   "source": [
    "# use case of set\n",
    "\n",
    "l1 = [1,2,3,\"bringal\",\"bringal\",\"bringal\"]\n",
    "\n",
    "s = set(l1)    #converting list to set\n",
    "\n",
    "s"
   ]
  },
  {
   "cell_type": "code",
   "execution_count": 32,
   "id": "a4fe7451-c2ef-47b8-a67a-c6e0b95d1606",
   "metadata": {},
   "outputs": [
    {
     "ename": "TypeError",
     "evalue": "'set' object is not subscriptable",
     "output_type": "error",
     "traceback": [
      "\u001b[0;31m---------------------------------------------------------------------------\u001b[0m",
      "\u001b[0;31mTypeError\u001b[0m                                 Traceback (most recent call last)",
      "Cell \u001b[0;32mIn[32], line 3\u001b[0m\n\u001b[1;32m      1\u001b[0m list1 \u001b[38;5;241m=\u001b[39m \u001b[38;5;28mlist\u001b[39m(s) \u001b[38;5;66;03m#again converting set to list\u001b[39;00m\n\u001b[0;32m----> 3\u001b[0m \u001b[43ms\u001b[49m\u001b[43m[\u001b[49m\u001b[38;5;241;43m0\u001b[39;49m\u001b[43m]\u001b[49m      \u001b[38;5;66;03m# as the set includes unique elements that's why it is unordered\u001b[39;00m\n",
      "\u001b[0;31mTypeError\u001b[0m: 'set' object is not subscriptable"
     ]
    }
   ],
   "source": [
    "list1 = list(s) #again converting set to list\n",
    "\n",
    "s[0]      # as the set includes unique elements that's why it is unordered\n"
   ]
  },
  {
   "cell_type": "code",
   "execution_count": 33,
   "id": "aaf8e818-ab11-440b-88d4-bf46727cc47e",
   "metadata": {},
   "outputs": [
    {
     "ename": "TypeError",
     "evalue": "'tuple' object does not support item assignment",
     "output_type": "error",
     "traceback": [
      "\u001b[0;31m---------------------------------------------------------------------------\u001b[0m",
      "\u001b[0;31mTypeError\u001b[0m                                 Traceback (most recent call last)",
      "Cell \u001b[0;32mIn[33], line 4\u001b[0m\n\u001b[1;32m      1\u001b[0m \u001b[38;5;66;03m# tuples as a data structure where you dont want to modify the data\u001b[39;00m\n\u001b[1;32m      3\u001b[0m empid \u001b[38;5;241m=\u001b[39m (\u001b[38;5;241m1\u001b[39m,\u001b[38;5;241m2\u001b[39m,\u001b[38;5;241m3\u001b[39m,\u001b[38;5;241m4\u001b[39m)\n\u001b[0;32m----> 4\u001b[0m \u001b[43mempid\u001b[49m\u001b[43m[\u001b[49m\u001b[38;5;241;43m1\u001b[39;49m\u001b[43m]\u001b[49m \u001b[38;5;241m=\u001b[39m\u001b[38;5;241m100\u001b[39m\n",
      "\u001b[0;31mTypeError\u001b[0m: 'tuple' object does not support item assignment"
     ]
    }
   ],
   "source": [
    "# tuples as a data structure where you dont want to modify the data\n",
    "\n",
    "empid = (1,2,3,4)\n",
    "empid[1] =100"
   ]
  },
  {
   "cell_type": "code",
   "execution_count": 34,
   "id": "ddabda1b-f4f7-4893-aed3-bcd9f0a22711",
   "metadata": {},
   "outputs": [
    {
     "data": {
      "text/plain": [
       "900"
      ]
     },
     "execution_count": 34,
     "metadata": {},
     "output_type": "execute_result"
    }
   ],
   "source": [
    "t1 = (1,2,100,300,900)\n",
    "max(t1)"
   ]
  },
  {
   "cell_type": "code",
   "execution_count": 35,
   "id": "ae2a2e11-52a0-470c-8a7a-4d72c62bb662",
   "metadata": {},
   "outputs": [
    {
     "data": {
      "text/plain": [
       "1"
      ]
     },
     "execution_count": 35,
     "metadata": {},
     "output_type": "execute_result"
    }
   ],
   "source": [
    "min(t1)"
   ]
  },
  {
   "cell_type": "code",
   "execution_count": 36,
   "id": "ad5cd6fc-44bd-4b6e-b45c-eef493dfbd2f",
   "metadata": {},
   "outputs": [
    {
     "ename": "TypeError",
     "evalue": "unhashable type: 'set'",
     "output_type": "error",
     "traceback": [
      "\u001b[0;31m---------------------------------------------------------------------------\u001b[0m",
      "\u001b[0;31mTypeError\u001b[0m                                 Traceback (most recent call last)",
      "Cell \u001b[0;32mIn[36], line 1\u001b[0m\n\u001b[0;32m----> 1\u001b[0m s \u001b[38;5;241m=\u001b[39m {\u001b[38;5;241m1\u001b[39m,\u001b[38;5;241m2\u001b[39m,\u001b[38;5;241m3\u001b[39m,\u001b[38;5;241m4\u001b[39m,\u001b[38;5;241m5\u001b[39m,\u001b[38;5;241m6\u001b[39m,\u001b[38;5;241m7\u001b[39m,{\u001b[38;5;241m3\u001b[39m,\u001b[38;5;241m4\u001b[39m,\u001b[38;5;241m5\u001b[39m,\u001b[38;5;241m6\u001b[39m}}    \u001b[38;5;66;03m# we cannot create the set inside the set\u001b[39;00m\n",
      "\u001b[0;31mTypeError\u001b[0m: unhashable type: 'set'"
     ]
    }
   ],
   "source": [
    "s = {1,2,3,4,5,6,7,{3,4,5,6}}    # we cannot create the set inside the set\n"
   ]
  },
  {
   "cell_type": "code",
   "execution_count": 37,
   "id": "13d659a7-e697-48f3-8687-7e7a5156000a",
   "metadata": {},
   "outputs": [
    {
     "data": {
      "text/plain": [
       "{(4, 5, 6), 1, 2, 3, 4, 5}"
      ]
     },
     "execution_count": 37,
     "metadata": {},
     "output_type": "execute_result"
    }
   ],
   "source": [
    "x = {1,2,3,4,5,(4,5,6)}    #it does'nt thorow an error as the tuplr is immutable\n",
    "\n",
    "x"
   ]
  },
  {
   "cell_type": "code",
   "execution_count": 40,
   "id": "74052278-299f-4f63-8c0a-5c0c602c7a6a",
   "metadata": {},
   "outputs": [
    {
     "name": "stdout",
     "output_type": "stream",
     "text": [
      "<class 'list'>\n"
     ]
    },
    {
     "data": {
      "text/plain": [
       "{1, 2, 3, 4, 5}"
      ]
     },
     "execution_count": 40,
     "metadata": {},
     "output_type": "execute_result"
    }
   ],
   "source": [
    "# when we convert he list into the set and then print it, this will removes the duplicate values\n",
    "\n",
    "numbers = [1, 2, 2, 3, 4, 4, 5]\n",
    "print(type(numbers))\n",
    "a = set(numbers)\n",
    "\n",
    "a"
   ]
  },
  {
   "cell_type": "code",
   "execution_count": 39,
   "id": "48d8cbcf-fcb1-41a9-bf3c-2a300ec081fa",
   "metadata": {},
   "outputs": [
    {
     "data": {
      "text/plain": [
       "set"
      ]
     },
     "execution_count": 39,
     "metadata": {},
     "output_type": "execute_result"
    }
   ],
   "source": [
    "type(a)"
   ]
  },
  {
   "cell_type": "code",
   "execution_count": 1,
   "id": "28398c89-626e-4999-aeb6-97386989cf5f",
   "metadata": {},
   "outputs": [],
   "source": [
    "#  Dictionary -> The dictionary is the data structure which stores the data in the form of key value pairs\n",
    "\n",
    "# If we iterate over a dictionary, the items will be returned in the order they were added."
   ]
  },
  {
   "cell_type": "code",
   "execution_count": 2,
   "id": "d56015f0-ec7e-44a5-af6a-fe3a41ec4c22",
   "metadata": {},
   "outputs": [
    {
     "data": {
      "text/plain": [
       "dict"
      ]
     },
     "execution_count": 2,
     "metadata": {},
     "output_type": "execute_result"
    }
   ],
   "source": [
    "d = {}\n",
    "type(d)"
   ]
  },
  {
   "cell_type": "code",
   "execution_count": 3,
   "id": "69fe0de0-29df-4303-9098-a6b27458233b",
   "metadata": {},
   "outputs": [
    {
     "data": {
      "text/plain": [
       "{'name': 'A', 'age': 23, 'contact': 919191}"
      ]
     },
     "execution_count": 3,
     "metadata": {},
     "output_type": "execute_result"
    }
   ],
   "source": [
    "d = {\"name\":\"A\",\"age\":23,\"contact\":919191}\n",
    "\n",
    "d"
   ]
  },
  {
   "cell_type": "code",
   "execution_count": 4,
   "id": "58b14d29-0fa6-47d3-8256-cfecb85fca11",
   "metadata": {},
   "outputs": [
    {
     "data": {
      "text/plain": [
       "{'name': 'A', 'age': 23, 'contact': 919191, 'adsress': 'Jaipur'}"
      ]
     },
     "execution_count": 4,
     "metadata": {},
     "output_type": "execute_result"
    }
   ],
   "source": [
    "# To add a key value pair in the dictionary\n",
    "\n",
    "d[\"adsress\"] = \"Jaipur\"\n",
    "\n",
    "d"
   ]
  },
  {
   "cell_type": "code",
   "execution_count": 5,
   "id": "6eab0718-4fde-43df-9d20-c128feddefe9",
   "metadata": {},
   "outputs": [
    {
     "data": {
      "text/plain": [
       "{'emp1': 1, 'emp2': 2, 'emp3': 3}"
      ]
     },
     "execution_count": 5,
     "metadata": {},
     "output_type": "execute_result"
    }
   ],
   "source": [
    "d1 = {\"emp1\":1,\"emp2\":2}\n",
    "\n",
    "d1[\"emp3\"] = 3\n",
    "\n",
    "d1"
   ]
  },
  {
   "cell_type": "code",
   "execution_count": 8,
   "id": "8beee367-4de4-4a2e-b241-f8e43f114255",
   "metadata": {},
   "outputs": [
    {
     "data": {
      "text/plain": [
       "{'name': 'B', 'age': 23, 'contact': 919191}"
      ]
     },
     "execution_count": 8,
     "metadata": {},
     "output_type": "execute_result"
    }
   ],
   "source": [
    "# To modify the element in a dictionary\n",
    "\n",
    "d = {\"name\":\"A\",\"age\":23,\"contact\":919191}\n",
    "\n",
    "d[\"name\"] = \"B\"\n",
    "\n",
    "d"
   ]
  },
  {
   "cell_type": "code",
   "execution_count": 10,
   "id": "fb6ad3f8-ebbf-490e-b34d-56970a3c986d",
   "metadata": {},
   "outputs": [
    {
     "name": "stdout",
     "output_type": "stream",
     "text": [
      "['A', 'B', 'C']\n",
      "B\n"
     ]
    }
   ],
   "source": [
    "d1 = {\"name\":[\"A\",\"B\",\"C\"],\"age\":23,\"contact\":919191}\n",
    "\n",
    "# to access the value of the key \"name\"\n",
    "\n",
    "print(d1[\"name\"])     #access all the value of the key\n",
    "\n",
    "print(d1[\"name\"][1])     #access one value from the key"
   ]
  },
  {
   "cell_type": "code",
   "execution_count": 11,
   "id": "5f28fbba-9973-4ff4-8a3f-f669da385dfd",
   "metadata": {},
   "outputs": [
    {
     "data": {
      "text/plain": [
       "919191"
      ]
     },
     "execution_count": 11,
     "metadata": {},
     "output_type": "execute_result"
    }
   ],
   "source": [
    "# To delete the elements from the dictionary\n",
    "\n",
    "\n",
    "d1.pop(\"contact\")"
   ]
  },
  {
   "cell_type": "code",
   "execution_count": 12,
   "id": "88bbf8cb-249c-4c48-b619-8d8cdee1e4d7",
   "metadata": {},
   "outputs": [
    {
     "data": {
      "text/plain": [
       "{'name': ['A', 'B', 'C'], 'age': 23}"
      ]
     },
     "execution_count": 12,
     "metadata": {},
     "output_type": "execute_result"
    }
   ],
   "source": [
    "d1"
   ]
  },
  {
   "cell_type": "code",
   "execution_count": 13,
   "id": "ef5e811e-c5d9-45ce-9828-586be81863cc",
   "metadata": {},
   "outputs": [],
   "source": [
    "# to clear all the elements from the dictionary\n",
    "\n",
    "d1.clear()"
   ]
  },
  {
   "cell_type": "code",
   "execution_count": 14,
   "id": "bbbacc79-c862-444a-8aa4-b37d74b7f958",
   "metadata": {},
   "outputs": [
    {
     "data": {
      "text/plain": [
       "{}"
      ]
     },
     "execution_count": 14,
     "metadata": {},
     "output_type": "execute_result"
    }
   ],
   "source": [
    "d1"
   ]
  },
  {
   "cell_type": "code",
   "execution_count": 15,
   "id": "0bfba9ae-4c95-4976-b341-b01b28803220",
   "metadata": {},
   "outputs": [],
   "source": [
    "#  To delete a whole dictionary\n",
    "\n",
    "del d1"
   ]
  },
  {
   "cell_type": "code",
   "execution_count": 16,
   "id": "ee205ef8-561c-4e4c-b35f-d468e8fe44e5",
   "metadata": {},
   "outputs": [
    {
     "ename": "NameError",
     "evalue": "name 'd1' is not defined",
     "output_type": "error",
     "traceback": [
      "\u001b[0;31m---------------------------------------------------------------------------\u001b[0m",
      "\u001b[0;31mNameError\u001b[0m                                 Traceback (most recent call last)",
      "Cell \u001b[0;32mIn[16], line 1\u001b[0m\n\u001b[0;32m----> 1\u001b[0m \u001b[43md1\u001b[49m   \u001b[38;5;66;03m#after deleting whole dictionary, we are not able to access the dictionary\u001b[39;00m\n",
      "\u001b[0;31mNameError\u001b[0m: name 'd1' is not defined"
     ]
    }
   ],
   "source": [
    "d1   #after deleting whole dictionary, we are not able to access the dictionary"
   ]
  },
  {
   "cell_type": "code",
   "execution_count": 17,
   "id": "ce2ebb28-c7f7-4ca3-86e3-97fd6e4b7599",
   "metadata": {},
   "outputs": [
    {
     "data": {
      "text/plain": [
       "'emp1'"
      ]
     },
     "execution_count": 17,
     "metadata": {},
     "output_type": "execute_result"
    }
   ],
   "source": [
    "# Q8. importance of dictionary keys being immutable\n",
    "\n",
    "\n",
    "# The dictionry keys being immutable is essential for the keys because it ensures that the dictionary can efficiently look up values based on their keys.\n",
    "\n",
    "# Each key in adictionary is hashed to generate a unique identifier for that key which is then use to access the value of that key.\n",
    "\n",
    "#  It has a consistent and pridictable behaviour\n",
    "\n",
    "# For example\n",
    "\n",
    "d1 = {1:\"emp1\",2:\"emp2\",3:\"emp3\"}\n",
    "\n",
    "x = d1[1]\n",
    "\n",
    "x"
   ]
  },
  {
   "cell_type": "code",
   "execution_count": 18,
   "id": "67a07f98-2bb6-4b07-86c9-f548a06c64fc",
   "metadata": {},
   "outputs": [
    {
     "name": "stdout",
     "output_type": "stream",
     "text": [
      "value\n"
     ]
    }
   ],
   "source": [
    "d1 = {(\"x\", \"y\"): \"value\"}\n",
    "print(d1[(\"x\", \"y\")])"
   ]
  },
  {
   "cell_type": "code",
   "execution_count": 20,
   "id": "985415a9-c5d8-479e-9988-293526f98ed8",
   "metadata": {},
   "outputs": [
    {
     "name": "stdout",
     "output_type": "stream",
     "text": [
      "1\n"
     ]
    }
   ],
   "source": [
    "d2 = {(\"apple\", \"green\"): 1}\n",
    "print(d2[(\"apple\", \"green\")])"
   ]
  },
  {
   "cell_type": "code",
   "execution_count": null,
   "id": "1a516c32-7b25-4dee-8a93-bc3cde71a968",
   "metadata": {},
   "outputs": [],
   "source": []
  }
 ],
 "metadata": {
  "kernelspec": {
   "display_name": "Python 3 (ipykernel)",
   "language": "python",
   "name": "python3"
  },
  "language_info": {
   "codemirror_mode": {
    "name": "ipython",
    "version": 3
   },
   "file_extension": ".py",
   "mimetype": "text/x-python",
   "name": "python",
   "nbconvert_exporter": "python",
   "pygments_lexer": "ipython3",
   "version": "3.10.8"
  }
 },
 "nbformat": 4,
 "nbformat_minor": 5
}
